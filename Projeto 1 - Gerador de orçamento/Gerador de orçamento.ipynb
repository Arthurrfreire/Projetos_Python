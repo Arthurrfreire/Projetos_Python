{
 "cells": [
  {
   "cell_type": "markdown",
   "id": "9140750b",
   "metadata": {},
   "source": [
    "# Gerador de orçamento"
   ]
  },
  {
   "cell_type": "code",
   "execution_count": 7,
   "id": "b486587e",
   "metadata": {},
   "outputs": [
    {
     "name": "stdout",
     "output_type": "stream",
     "text": [
      "Digite a descrição do projeto: Desenvolvimento Python\n",
      "Digite a quantidade de horas previstas: 300\n",
      "Digite o valor da hora trabalhada: 190\n",
      "Digite o prazo estimado: 5\n",
      "Orçamento gerado com sucesso!\n"
     ]
    }
   ],
   "source": [
    "from fpdf import FPDF\n",
    "\n",
    "projeto = str(input('Digite a descrição do projeto: '))\n",
    "horas_previstas = int(input('Digite a quantidade de horas previstas: '))\n",
    "valor_hora = float(input('Digite o valor da hora trabalhada: '))\n",
    "prazo = int(input('Digite o prazo estimado: '))\n",
    "\n",
    "valor_total = horas_previstas * valor_hora\n",
    "\n",
    "pdf = FPDF()\n",
    "\n",
    "pdf.add_page()\n",
    "pdf.set_font('Arial')\n",
    "\n",
    "pdf.image('template.png', x=0, y=0)\n",
    "\n",
    "pdf.text(115, 145, projeto)\n",
    "pdf.text(115, 160, str(horas_previstas))\n",
    "pdf.text(115, 175, str(valor_hora))\n",
    "pdf.text(115, 190, str(prazo))\n",
    "pdf.text(115, 205, str(valor_total))\n",
    "\n",
    "pdf.output('Orçamento.pdf')\n",
    "\n",
    "print('Orçamento gerado com sucesso!')\n"
   ]
  }
 ],
 "metadata": {
  "kernelspec": {
   "display_name": "Python 3 (ipykernel)",
   "language": "python",
   "name": "python3"
  },
  "language_info": {
   "codemirror_mode": {
    "name": "ipython",
    "version": 3
   },
   "file_extension": ".py",
   "mimetype": "text/x-python",
   "name": "python",
   "nbconvert_exporter": "python",
   "pygments_lexer": "ipython3",
   "version": "3.11.5"
  }
 },
 "nbformat": 4,
 "nbformat_minor": 5
}
